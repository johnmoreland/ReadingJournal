{
 "cells": [
  {
   "cell_type": "markdown",
   "metadata": {},
   "source": [
    "# Day 2 Reading Journal\n",
    "\n",
    "This journal includes several required exercises, but it is meant to encourage active reading more generally.  You should use the journal to take detailed notes, catalog questions, and explore the content from Think Python deeply.\n",
    "\n",
    "Reading: Think Python Chapter 6.1-6.4, 7\n",
    "\n",
    "**Due: Thursday, January 28 at 12 noon**\n",
    "\n"
   ]
  },
  {
   "cell_type": "markdown",
   "metadata": {},
   "source": [
    "## [Chapter 6.1-6.4](http://www.greenteapress.com/thinkpython/html/thinkpython007.html)\n",
    "\n",
    "Note: the exercise numbers below match up with the reading for ease of cross referencing."
   ]
  },
  {
   "cell_type": "markdown",
   "metadata": {},
   "source": [
    "**Quick check:** What is a _fruitful function_?\n",
    "\n",
    "fruitful functions give an output"
   ]
  },
  {
   "cell_type": "markdown",
   "metadata": {},
   "source": [
    " "
   ]
  },
  {
   "cell_type": "markdown",
   "metadata": {},
   "source": [
    "### Exercise 1  \n",
    "Write a `compare` function that returns `1` if `x > y`, `0` if `x == y`, and `-1` if `x < y`."
   ]
  },
  {
   "cell_type": "code",
   "execution_count": 8,
   "metadata": {
    "collapsed": false
   },
   "outputs": [
    {
     "data": {
      "text/plain": [
       "0"
      ]
     },
     "execution_count": 8,
     "metadata": {},
     "output_type": "execute_result"
    }
   ],
   "source": [
    "def compare (x,y):\n",
    "    if x > y:\n",
    "        return 1\n",
    "    elif y > x:\n",
    "        return -1\n",
    "    elif x == y:\n",
    "        return 0\n",
    "    \n",
    "x=1\n",
    "y=1\n",
    "compare (x,y)"
   ]
  },
  {
   "cell_type": "markdown",
   "metadata": {},
   "source": [
    "**Quick check:** Modify the `absolute_value` function so that it returns the correct result for all integer inputs."
   ]
  },
  {
   "cell_type": "code",
   "execution_count": 2,
   "metadata": {
    "collapsed": true
   },
   "outputs": [],
   "source": [
    "def absolute_value(x):\n",
    "    if x < 0:\n",
    "        return -x\n",
    "    elif x > 0:\n",
    "        return x\n",
    "    else:\n",
    "        return 0"
   ]
  },
  {
   "cell_type": "markdown",
   "metadata": {},
   "source": [
    "### Exercise 2  \n",
    "Use incremental development to write a function called `hypotenuse` that returns the length of the hypotenuse of a right triangle given the lengths of the two legs as arguments. Record each stage of the development process as you go, using as many cells as you need."
   ]
  },
  {
   "cell_type": "code",
   "execution_count": 18,
   "metadata": {
    "collapsed": false
   },
   "outputs": [
    {
     "data": {
      "text/plain": [
       "5.0"
      ]
     },
     "execution_count": 18,
     "metadata": {},
     "output_type": "execute_result"
    }
   ],
   "source": [
    "import math\n",
    "# def hypotenuse(a,b):\n",
    "#     asquared = a**2\n",
    "#     bsquared = b**2\n",
    "#     print (asquared, bsquared)\n",
    "#     return 0.0\n",
    "# hypotenuse (1,2)\n",
    "\n",
    "# def hypotenuse(a,b):\n",
    "#     asquared = a**2\n",
    "#     bsquared = b**2\n",
    "#     csquared = asquared + bsquared\n",
    "#     print csquared\n",
    "#     return 0.0\n",
    "# hypotenuse (1,2)\n",
    "\n",
    "# def hypotenuse(a,b):\n",
    "#     asquared = a**2\n",
    "#     bsquared = b**2\n",
    "#     csquared = asquared + bsquared\n",
    "#     c = math.sqrt(csquared)\n",
    "#     print c\n",
    "#     return 0.0\n",
    "# hypotenuse (1,2)\n",
    "\n",
    "def hypotenuse(a,b):\n",
    "    asquared = a**2\n",
    "    bsquared = b**2\n",
    "    csquared = asquared + bsquared\n",
    "    c = math.sqrt(csquared)\n",
    "    return c\n",
    "hypotenuse (3,4)"
   ]
  },
  {
   "cell_type": "markdown",
   "metadata": {},
   "source": [
    "### Exercise 3  \n",
    "Write a function `is_between(x, y, z)` that returns `True` if `x ≤ y ≤ z` or `False` otherwise."
   ]
  },
  {
   "cell_type": "code",
   "execution_count": 24,
   "metadata": {
    "collapsed": false
   },
   "outputs": [
    {
     "data": {
      "text/plain": [
       "False"
      ]
     },
     "execution_count": 24,
     "metadata": {},
     "output_type": "execute_result"
    }
   ],
   "source": [
    "def is_between(x, y, z):\n",
    "    if (x<y or x==y) and (y<z or y==z):\n",
    "        return True\n",
    "    else:\n",
    "        return False\n",
    "    \n",
    "is_between(1,-1,1)\n",
    "        "
   ]
  },
  {
   "cell_type": "markdown",
   "metadata": {},
   "source": [
    "## [Chapter 7](http://www.greenteapress.com/thinkpython/html/thinkpython008.html)\n",
    "\n"
   ]
  },
  {
   "cell_type": "markdown",
   "metadata": {},
   "source": [
    "**Quick check:** How do you test for equality in Python?"
   ]
  },
  {
   "cell_type": "markdown",
   "metadata": {},
   "source": [
    "You can run an if statement to test if two variables are equal."
   ]
  },
  {
   "cell_type": "markdown",
   "metadata": {},
   "source": [
    "**Challenge:** Prove/disprove the Collatz conjecture :)"
   ]
  },
  {
   "cell_type": "markdown",
   "metadata": {},
   "source": [
    "### Exercise 2  \n",
    "Encapsulate the loop from Section 7.5 in a function called `square_root` that takes `a` as a parameter, chooses a reasonable value of `x`, and returns an estimate of the square root of `a`."
   ]
  },
  {
   "cell_type": "code",
   "execution_count": 41,
   "metadata": {
    "collapsed": false
   },
   "outputs": [
    {
     "name": "stdout",
     "output_type": "stream",
     "text": [
      "6.17283945062e+18\n",
      "3.08641972531e+18\n",
      "1.54320986265e+18\n",
      "7.71604931327e+17\n",
      "3.85802465664e+17\n",
      "1.92901232832e+17\n",
      "9.64506164159e+16\n",
      "4.82253082079e+16\n",
      "2.4112654104e+16\n",
      "1.2056327052e+16\n",
      "6.02816352599e+15\n",
      "3.014081763e+15\n",
      "1.5070408815e+15\n",
      "7.53520440755e+14\n",
      "3.76760220386e+14\n",
      "1.88380110209e+14\n",
      "9.41900551373e+13\n",
      "4.70950276342e+13\n",
      "2.35475139482e+13\n",
      "1.17737572362e+13\n",
      "5.8868791424e+12\n",
      "2.94344061978e+12\n",
      "1.47172240704e+12\n",
      "7.35865397816e+11\n",
      "3.67941087452e+11\n",
      "1.83987320432e+11\n",
      "92027210568.5\n",
      "46080681526.3\n",
      "23174297971.4\n",
      "11853514743.9\n",
      "6447517634.55\n",
      "4181156656.33\n",
      "3566925654.51\n",
      "3514039813.86\n",
      "3513641851.36\n",
      "3513641828.82\n",
      "found it!\n"
     ]
    }
   ],
   "source": [
    "def square_root(a):\n",
    "    x = .5 * a\n",
    "    epsilon = .000001\n",
    "    while True:    \n",
    "        print x\n",
    "        y = (x + a/x) / 2\n",
    "        if abs(y-x) < epsilon:\n",
    "            print ('found it!')\n",
    "            break\n",
    "        x = y\n",
    "                   \n",
    "square_root(12345678901234567890)"
   ]
  },
  {
   "cell_type": "markdown",
   "metadata": {},
   "source": [
    "### Exercise 3  \n",
    "To test the square root algorithm you developed in Exercise 2, you could compare it with Python's `math.sqrt` function. Write a function named `test_square_root` that prints a table like this:\n",
    "\n",
    "```python\n",
    "1.0 1.0           1.0           0.0\n",
    "2.0 1.41421356237 1.41421356237 2.22044604925e-16\n",
    "3.0 1.73205080757 1.73205080757 0.0\n",
    "4.0 2.0           2.0           0.0\n",
    "5.0 2.2360679775  2.2360679775  0.0\n",
    "6.0 2.44948974278 2.44948974278 0.0\n",
    "7.0 2.64575131106 2.64575131106 0.0\n",
    "8.0 2.82842712475 2.82842712475 4.4408920985e-16\n",
    "9.0 3.0           3.0           0.0\n",
    "```\n",
    "\n",
    "The first column is a number, `a`; the second column is the square root of a computed with the function from Section 7.5; the third column is the square root computed by `math.sqrt`; the fourth column is the absolute value of the difference between the two estimates."
   ]
  },
  {
   "cell_type": "code",
   "execution_count": 55,
   "metadata": {
    "collapsed": false
   },
   "outputs": [
    {
     "name": "stdout",
     "output_type": "stream",
     "text": [
      "1 1.0 1.0 1.11022302463e-15\n",
      "2 1.41421356237 1.41421356237 1.59472435257e-12\n",
      "3 1.73205080757 1.73205080757 0.0\n",
      "4 2.0 2.0 0.0\n",
      "5 2.2360679775 2.2360679775 0.0\n",
      "6 2.44948974278 2.44948974278 8.881784197e-16\n",
      "7 2.64575131106 2.64575131106 1.02584607475e-13\n",
      "8 2.82842712475 2.82842712475 3.18944870514e-12\n",
      "9 3.00000000004 3.0 3.9321434997e-11\n"
     ]
    }
   ],
   "source": [
    "def test_square_root(a):\n",
    "    x = .5 * a\n",
    "    epsilon = .0000000001\n",
    "    print a,\n",
    "    while True:\n",
    "        y = (x + a/x) / 2\n",
    "        if abs(y-x) < epsilon:\n",
    "            print (x),\n",
    "            break\n",
    "        x = y\n",
    "    p = math.sqrt(a)\n",
    "    print p,\n",
    "    q = abs(p-x)\n",
    "    print q\n",
    "    \n",
    "test_square_root(1)\n",
    "test_square_root(2)\n",
    "test_square_root(3)\n",
    "test_square_root(4)\n",
    "test_square_root(5)\n",
    "test_square_root(6)\n",
    "test_square_root(7)\n",
    "test_square_root(8)\n",
    "test_square_root(9)\n"
   ]
  },
  {
   "cell_type": "markdown",
   "metadata": {},
   "source": [
    "### Challenge: Exercise 5  (optional)\n",
    "The mathematician Srinivasa Ramanujan found an infinite series that can be used to generate a numerical approximation of\n",
    "$\\frac{1}{\\pi}$:\n",
    "\n",
    "$$\\frac{1}{\\pi} = \\frac{2 \\sqrt{2}}{9801} \\sum_{k=0}^{\\infty} \\frac{(4k)! (1103+26390k)}{(k!)^4 396^{4k}}$$\n",
    " \n",
    "Write a function called `estimate_pi` that uses this formula to compute and return an estimate of $\\pi$. It should use a `while` loop to compute terms of the summation until the last term is smaller than `1e-15` (which is Python notation for $10^{−15}$). You can check the result by comparing it to `math.pi`.\n",
    "\n",
    "[Possible solution](http://thinkpython.com/code/pi.py) (give the exercise a try before viewing the solution)"
   ]
  },
  {
   "cell_type": "code",
   "execution_count": 5,
   "metadata": {
    "collapsed": false
   },
   "outputs": [
    {
     "name": "stdout",
     "output_type": "stream",
     "text": [
      "running\n",
      "running\n",
      "3.14159265359\n"
     ]
    }
   ],
   "source": [
    "import math\n",
    "print ('running')\n",
    "def estimate_pi():\n",
    "    k = 0.0\n",
    "    mysum = 0.0\n",
    "    while True:\n",
    "        numerator = (math.factorial(4.0*k)) * (1103.0 + 26390.0*k)\n",
    "        denominator = ((math.factorial(k))**4.0)*(396.0**(4.0*k))\n",
    "        a = numerator/denominator\n",
    "        mysum = a + mysum\n",
    "        if a<1e-15:\n",
    "            break\n",
    "        k = k + 1\n",
    "    approx = mysum * (2*math.sqrt(2))/9801\n",
    "    print (1/approx)\n",
    "\n",
    "estimate_pi()"
   ]
  },
  {
   "cell_type": "markdown",
   "metadata": {},
   "source": [
    "## Reading Journal feedback\n",
    "\n",
    "\"how do you test for equality in python\" is quite an ambiguous question."
   ]
  },
  {
   "cell_type": "markdown",
   "metadata": {},
   "source": [
    " "
   ]
  }
 ],
 "metadata": {
  "kernelspec": {
   "display_name": "Python 2",
   "language": "python",
   "name": "python2"
  },
  "language_info": {
   "codemirror_mode": {
    "name": "ipython",
    "version": 2
   },
   "file_extension": ".py",
   "mimetype": "text/x-python",
   "name": "python",
   "nbconvert_exporter": "python",
   "pygments_lexer": "ipython2",
   "version": "2.7.6"
  }
 },
 "nbformat": 4,
 "nbformat_minor": 0
}
