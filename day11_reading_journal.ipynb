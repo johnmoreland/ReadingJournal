{
 "cells": [
  {
   "cell_type": "markdown",
   "metadata": {},
   "source": [
    "# Day 11 Reading Journal\n",
    "\n",
    "This journal includes several required exercises, but it is meant to encourage active reading more generally.  You should use the journal to take detailed notes, catalog questions, and explore the content from Think Python deeply.\n",
    "\n",
    "Reading: Review Think Python Chapters 15-17\n",
    "\n",
    "**Due: Monday, February 29 at 12 noon**\n",
    "\n"
   ]
  },
  {
   "cell_type": "markdown",
   "metadata": {},
   "source": [
    "## [Chapter 15](http://www.greenteapress.com/thinkpython/html/thinkpython016.html), [Chapter 16](http://www.greenteapress.com/thinkpython/html/thinkpython017.html), [Chapter 17](http://www.greenteapress.com/thinkpython/html/thinkpython018.html)\n",
    "\n",
    "\n",
    "By the end of chapter 17, we have all the tools we need to create our own user-defined types known as classes. In this reading journal, we're asking you to review and solidify your understanding of this material so we can build on it for the rest of the course. \n",
    "\n",
    "If you didn't get a chance to fully complete the Day 10 reading journal, you may want to do so now."
   ]
  },
  {
   "cell_type": "markdown",
   "metadata": {
    "problem": "Terminology"
   },
   "source": [
    "### Terminology\n",
    "\n",
    "You should be familiar with the following list of terms and concepts. If any of them are unclear to you, re-read, ask, write a definition in your own words, and try an example if appropriate.\n",
    "\n",
    " - class\n",
    " - object\n",
    " - instance\n",
    " - attribute\n",
    " - method\n",
    " - shallow vs deep copying\n",
    " - pure functions vs modifiers\n",
    " - initializing object instances\n",
    " "
   ]
  },
  {
   "cell_type": "markdown",
   "metadata": {
    "is_question": true,
    "problem": "Exercise 1"
   },
   "source": [
    "### Exercise\n",
    "\n",
    "We're going to take the first steps toward writing a calendar application. To keep things simple, we'll restrict ourselves to a single day for now. Write an `Event` class with the following attributes:\n",
    "\n",
    " - `name`  : Title for the `Event`\n",
    " - `start` : `Time` object representing the start time for the `Event`\n",
    " - `end`   : `Time` object representing the end time for the `Event`\n",
    "\n",
    "You can also augment your `Event` class with additional attributes, such as location and attendees.\n",
    "\n",
    "Write `__init__` and `__str__` methods for your `Event` class."
   ]
  },
  {
   "cell_type": "code",
   "execution_count": 78,
   "metadata": {
    "collapsed": false,
    "solution": "Exercise 1"
   },
   "outputs": [
    {
     "name": "stdout",
     "output_type": "stream",
     "text": [
      "puppy watching will take place at the lake from 15:22:00 to 17:40:00\n",
      "Attendees include: duck, fish\n",
      "02:18:00\n",
      "55320\n",
      "55320\n"
     ]
    }
   ],
   "source": [
    "class Time (object):\n",
    "    \"\"\"Represents the time of day.\n",
    "       \n",
    "    attributes: hour, minute, second\n",
    "    \"\"\"\n",
    "    def __init__(self, hour=0, minute=0, second=0):\n",
    "        self.hour = hour\n",
    "        self.minute = minute\n",
    "        self.second = second\n",
    "    def __str__(self):\n",
    "        return  '%.2d:%.2d:%.2d' % (self.hour, self.minute, self.second)\n",
    "    def add_time(t1, t2):\n",
    "        seconds = time_to_int(t1) + time_to_int(t2)\n",
    "        return int_to_time(seconds)\n",
    "    def subtract_time(t1,t2):\n",
    "        seconds = seconds = time_to_int(t2) - time_to_int(t1)\n",
    "        return int_to_time(seconds)\n",
    "    def int_to_time(seconds):\n",
    "        time = Time()\n",
    "        minutes, time.second = divmod(seconds, 60)\n",
    "        time.hour, time.minute = divmod(minutes, 60)\n",
    "        return time\n",
    "    def time_to_int(time):\n",
    "        minutes = time.hour * 60 + time.minute\n",
    "        seconds = minutes * 60 + time.second\n",
    "        return seconds\n",
    "\n",
    "class Event(object):\n",
    "    \"\"\"Represents an event\n",
    "    attributes: name, start time, end time, location, attendees\n",
    "    \"\"\"\n",
    "    def __init__(self, name='Undefined Name', start=Time(0,0,0),\n",
    "                 end=Time(0,0,0), location='Undefined Location', attendees=[]):\n",
    "        self.name = name\n",
    "        self.start = start\n",
    "        self.end = end\n",
    "        self.location  = location\n",
    "        self.attendees = attendees\n",
    "    def __str__(self):\n",
    "        name = self.name\n",
    "        start = self.start\n",
    "        end = self.end\n",
    "        location = self.location\n",
    "        attendees = ', '.join(self.attendees)\n",
    "        sentence1 = name + \" will take place at \" + location \n",
    "        sentence2 = \" from \" + str(start) + \" to \" + str(end)\n",
    "        sentence3 = \"Attendees include: \" + attendees\n",
    "        return sentence1 + sentence2 + \"\\n\" + sentence3\n",
    "    def duration(self):\n",
    "        start = self.start\n",
    "        end = self.end\n",
    "#         print type(start), type(end)\n",
    "        return start.subtract_time(end)\n",
    "    def startint(self):\n",
    "        return self.start.time_to_int()\n",
    "    \n",
    "myevent = Event()\n",
    "myevent.name = \"puppy watching\"\n",
    "myevent.location = \"the lake\"\n",
    "myevent.start = Time(15,22)\n",
    "myevent.end = Time(17,40)\n",
    "myevent.attendees = [\"duck\", \"fish\"]\n",
    "\n",
    "print myevent\n",
    "print  myevent.duration()\n",
    "print myevent.start.time_to_int()\n",
    "print myevent.startint()"
   ]
  },
  {
   "cell_type": "markdown",
   "metadata": {
    "is_question": true,
    "problem": "Exercise 2"
   },
   "source": [
    "### Exercise\n",
    "\n",
    "Write a `duration` method that returns the duration of the `Event` in minutes."
   ]
  },
  {
   "cell_type": "code",
   "execution_count": null,
   "metadata": {
    "collapsed": true,
    "solution": "Exercise 2"
   },
   "outputs": [],
   "source": [
    "# did it in the above module, so this doesn't get too unweildy"
   ]
  },
  {
   "cell_type": "markdown",
   "metadata": {
    "is_question": true,
    "problem": "Exercise 3"
   },
   "source": [
    "### Exercise\n",
    "\n",
    "Write an `Agenda` class that contains several `Event`s for the day.\n",
    "\n",
    "**Quick check: ** How should you store `Event`s within your `Agenda` class?\n",
    "\n",
    "Your `Agenda` class should include a `print_agenda` method that prints out your schedule for the day, in order.\n",
    "\n",
    "**Optional:** Include a `is_feasible` method that returns `True` if your schedule has no time conflicts. You may want to write additional helper methods for the `Event` class to make this easier."
   ]
  },
  {
   "cell_type": "code",
   "execution_count": 109,
   "metadata": {
    "collapsed": false,
    "solution": "Exercise 3"
   },
   "outputs": [
    {
     "name": "stdout",
     "output_type": "stream",
     "text": [
      "party\n",
      "sleep\n",
      "repeat\n"
     ]
    }
   ],
   "source": [
    "class Agenda(object):\n",
    "    def __init__(self, event_list=[]):\n",
    "        self.event_list = event_list\n",
    "    def __str__(self):\n",
    "        pass\n",
    "    def print_agenda(self):\n",
    "        d = dict()\n",
    "        for event in self.event_list:\n",
    "            #add each event in the list to a dictionary\n",
    "            d[event.startint()] = event.name\n",
    "        mykeys = d.keys() #creates a list of keys\n",
    "        mykeys.sort() #orders the keys\n",
    "        #print each name in order\n",
    "        for t in range(len(mykeys)):\n",
    "            key = mykeys[t]\n",
    "            print d.get(key)\n",
    "\n",
    "myfirstevent = Event(\"party\", Time(2,20))\n",
    "mysecondevent = Event(\"sleep\", Time(4,30))\n",
    "mythirdevent = Event(\"repeat\", Time(6,0))\n",
    "\n",
    "myagenda = Agenda([myfirstevent, mythirdevent, mysecondevent])\n",
    "myagenda.print_agenda()\n",
    "    \n"
   ]
  },
  {
   "cell_type": "markdown",
   "metadata": {
    "is_question": true,
    "problem": "Exercise 4"
   },
   "source": [
    "### Going Beyond (optional)\n",
    "\n",
    "Some ideas for taking your application further:\n",
    " - Add people and/or places to the mix to create a scheduling assistant\n",
    " - Extend support for day-of-week or full date. A word of warning: dealing with dates and times in real applications is difficult due to the huge number of special cases (Perfect example: this reading journal is due on Leap Day). Consider using something like the Python [datetime](https://docs.python.org/2/library/datetime.html) module.\n",
    " - Use pickle or some other persistence strategy to save and load your `Agenda`."
   ]
  },
  {
   "cell_type": "code",
   "execution_count": null,
   "metadata": {
    "collapsed": true,
    "solution": "Exercise 4"
   },
   "outputs": [],
   "source": []
  },
  {
   "cell_type": "markdown",
   "metadata": {
    "is_poll": true,
    "is_question": true,
    "problem": "Time spent"
   },
   "source": [
    "## Quick poll\n",
    "About how long did you spend working on this Reading Journal?"
   ]
  },
  {
   "cell_type": "markdown",
   "metadata": {
    "poll_response": true,
    "solution": "Time spent"
   },
   "source": [
    " "
   ]
  },
  {
   "cell_type": "markdown",
   "metadata": {
    "is_question": true,
    "problem": "Feedback"
   },
   "source": [
    "## Reading Journal feedback\n",
    "\n",
    "Have any comments on this Reading Journal? Feel free to leave them below and we'll read them when you submit your journal entry. This could include suggestions to improve the exercises, topics you'd like to see covered in class next time, or other feedback.\n",
    "\n",
    "If you have Python questions or run into problems while completing the reading, you should post them to Piazza instead so you can get a quick response before your journal is submitted."
   ]
  },
  {
   "cell_type": "markdown",
   "metadata": {
    "feedback_response": true,
    "solution": "Feedback"
   },
   "source": [
    " "
   ]
  }
 ],
 "metadata": {
  "celltoolbar": "Edit Metadata",
  "kernelspec": {
   "display_name": "Python 2",
   "language": "python",
   "name": "python2"
  },
  "language_info": {
   "codemirror_mode": {
    "name": "ipython",
    "version": 2
   },
   "file_extension": ".py",
   "mimetype": "text/x-python",
   "name": "python",
   "nbconvert_exporter": "python",
   "pygments_lexer": "ipython2",
   "version": "2.7.6"
  }
 },
 "nbformat": 4,
 "nbformat_minor": 0
}
